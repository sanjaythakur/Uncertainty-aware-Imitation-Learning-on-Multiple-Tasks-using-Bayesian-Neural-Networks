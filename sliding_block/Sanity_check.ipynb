{
 "cells": [
  {
   "cell_type": "code",
   "execution_count": 1,
   "metadata": {},
   "outputs": [
    {
     "name": "stderr",
     "output_type": "stream",
     "text": [
      "/anaconda3/lib/python3.6/importlib/_bootstrap.py:219: RuntimeWarning: numpy.dtype size changed, may indicate binary incompatibility. Expected 96, got 88\n",
      "  return f(*args, **kwds)\n",
      "/anaconda3/lib/python3.6/importlib/_bootstrap.py:219: RuntimeWarning: numpy.dtype size changed, may indicate binary incompatibility. Expected 96, got 88\n",
      "  return f(*args, **kwds)\n",
      "/anaconda3/lib/python3.6/importlib/_bootstrap.py:219: RuntimeWarning: numpy.dtype size changed, may indicate binary incompatibility. Expected 96, got 88\n",
      "  return f(*args, **kwds)\n"
     ]
    }
   ],
   "source": [
    "from GP_sanity_check import GP_sanity_check"
   ]
  },
  {
   "cell_type": "code",
   "execution_count": 2,
   "metadata": {},
   "outputs": [
    {
     "name": "stderr",
     "output_type": "stream",
     "text": [
      "WARNING:gpflow.logdensities:Shape of x must be 2D at computation.\n"
     ]
    },
    {
     "name": "stdout",
     "output_type": "stream",
     "text": [
      "\u001b[31mBlock mass is 10.0, normalization is True, lengthscale dimensions are 1, and lengthscale initial values are 0.3\u001b[0m\n",
      "\u001b[32mExhaustive mean squared predictive error is 17991.642437264592\u001b[0m\n",
      "\u001b[32mExhaustive total standard deviations is 0.0\u001b[0m\n",
      "\u001b[32mMean squared predictive error is 0.714839558010737\u001b[0m\n",
      "\u001b[32mAverage control variance is 0.01038893392713381\u001b[0m\n"
     ]
    },
    {
     "name": "stderr",
     "output_type": "stream",
     "text": [
      "/anaconda3/lib/python3.6/importlib/_bootstrap.py:219: RuntimeWarning: numpy.dtype size changed, may indicate binary incompatibility. Expected 96, got 88\n",
      "  return f(*args, **kwds)\n"
     ]
    },
    {
     "name": "stdout",
     "output_type": "stream",
     "text": [
      "INFO:tensorflow:Optimization terminated with:\n",
      "  Message: b'CONVERGENCE: REL_REDUCTION_OF_F_<=_FACTR*EPSMCH'\n",
      "  Objective function value: 765.564778\n",
      "  Number of iterations: 20\n",
      "  Number of functions evaluations: 22\n"
     ]
    },
    {
     "name": "stderr",
     "output_type": "stream",
     "text": [
      "INFO:tensorflow:Optimization terminated with:\n",
      "  Message: b'CONVERGENCE: REL_REDUCTION_OF_F_<=_FACTR*EPSMCH'\n",
      "  Objective function value: 765.564778\n",
      "  Number of iterations: 20\n",
      "  Number of functions evaluations: 22\n"
     ]
    },
    {
     "name": "stdout",
     "output_type": "stream",
     "text": [
      "\u001b[31mTime taken to optimize the parameters is 0:00:01.580556\u001b[0m\n",
      "\u001b[32mExhaustive mean squared predictive error is 17989.33813414401\u001b[0m\n",
      "\u001b[32mExhaustive total standard deviations is 0.0\u001b[0m\n",
      "\u001b[32mMean squared predictive error is 0.7154198863715346\u001b[0m\n",
      "\u001b[32mAverage control variance is 0.7235954741709955\u001b[0m\n"
     ]
    }
   ],
   "source": [
    "GP_sanity_check(block_mass=10., should_normalize=True, lengthscales_code=0)"
   ]
  },
  {
   "cell_type": "code",
   "execution_count": 3,
   "metadata": {},
   "outputs": [
    {
     "name": "stderr",
     "output_type": "stream",
     "text": [
      "WARNING:gpflow.logdensities:Shape of x must be 2D at computation.\n"
     ]
    },
    {
     "name": "stdout",
     "output_type": "stream",
     "text": [
      "\u001b[31mBlock mass is 10.0, normalization is True, lengthscale dimensions are 2, and lengthscale initial values are [0.1 0.1]\u001b[0m\n",
      "\u001b[32mExhaustive mean squared predictive error is 6243.447500317934\u001b[0m\n",
      "\u001b[32mExhaustive total standard deviations is 0.0\u001b[0m\n",
      "\u001b[32mMean squared predictive error is 4.3699360082436954e-05\u001b[0m\n",
      "\u001b[32mAverage control variance is 0.0184808209371776\u001b[0m\n",
      "INFO:tensorflow:Optimization terminated with:\n",
      "  Message: b'ABNORMAL_TERMINATION_IN_LNSRCH'\n",
      "  Objective function value: -3582.202953\n",
      "  Number of iterations: 43\n",
      "  Number of functions evaluations: 93\n"
     ]
    },
    {
     "name": "stderr",
     "output_type": "stream",
     "text": [
      "INFO:tensorflow:Optimization terminated with:\n",
      "  Message: b'ABNORMAL_TERMINATION_IN_LNSRCH'\n",
      "  Objective function value: -3582.202953\n",
      "  Number of iterations: 43\n",
      "  Number of functions evaluations: 93\n"
     ]
    },
    {
     "name": "stdout",
     "output_type": "stream",
     "text": [
      "\u001b[31mTime taken to optimize the parameters is 0:00:05.306518\u001b[0m\n",
      "\u001b[32mExhaustive mean squared predictive error is 2.1149706748912445e-10\u001b[0m\n",
      "\u001b[32mExhaustive total standard deviations is 0.0\u001b[0m\n",
      "\u001b[32mMean squared predictive error is 1.080975620640009e-14\u001b[0m\n",
      "\u001b[32mAverage control variance is 1.0183539821346734e-06\u001b[0m\n"
     ]
    }
   ],
   "source": [
    "GP_sanity_check(block_mass=10., should_normalize=True, lengthscales_code=1)"
   ]
  },
  {
   "cell_type": "code",
   "execution_count": null,
   "metadata": {},
   "outputs": [],
   "source": []
  },
  {
   "cell_type": "code",
   "execution_count": 4,
   "metadata": {},
   "outputs": [
    {
     "name": "stderr",
     "output_type": "stream",
     "text": [
      "WARNING:gpflow.logdensities:Shape of x must be 2D at computation.\n"
     ]
    },
    {
     "name": "stdout",
     "output_type": "stream",
     "text": [
      "\u001b[31mBlock mass is 10.0, normalization is False, lengthscale dimensions are 1, and lengthscale initial values are 0.3\u001b[0m\n",
      "\u001b[32mExhaustive mean squared predictive error is 18007.99726990724\u001b[0m\n",
      "\u001b[32mExhaustive total standard deviations is 0.0\u001b[0m\n",
      "\u001b[32mMean squared predictive error is 5370.002787109467\u001b[0m\n",
      "\u001b[32mAverage control variance is 0.011640678209454637\u001b[0m\n",
      "INFO:tensorflow:Optimization terminated with:\n",
      "  Message: b'CONVERGENCE: NORM_OF_PROJECTED_GRADIENT_<=_PGTOL'\n",
      "  Objective function value: 3565.511386\n",
      "  Number of iterations: 44\n",
      "  Number of functions evaluations: 45\n"
     ]
    },
    {
     "name": "stderr",
     "output_type": "stream",
     "text": [
      "INFO:tensorflow:Optimization terminated with:\n",
      "  Message: b'CONVERGENCE: NORM_OF_PROJECTED_GRADIENT_<=_PGTOL'\n",
      "  Objective function value: 3565.511386\n",
      "  Number of iterations: 44\n",
      "  Number of functions evaluations: 45\n"
     ]
    },
    {
     "name": "stdout",
     "output_type": "stream",
     "text": [
      "\u001b[31mTime taken to optimize the parameters is 0:00:02.750499\u001b[0m\n",
      "\u001b[32mExhaustive mean squared predictive error is 18206.55684203912\u001b[0m\n",
      "\u001b[32mExhaustive total standard deviations is 0.0\u001b[0m\n",
      "\u001b[32mMean squared predictive error is 7029.961099636998\u001b[0m\n",
      "\u001b[32mAverage control variance is 7655.183640218702\u001b[0m\n"
     ]
    }
   ],
   "source": [
    "GP_sanity_check(block_mass=10., should_normalize=False, lengthscales_code=0)"
   ]
  },
  {
   "cell_type": "code",
   "execution_count": 5,
   "metadata": {},
   "outputs": [
    {
     "name": "stderr",
     "output_type": "stream",
     "text": [
      "WARNING:gpflow.logdensities:Shape of x must be 2D at computation.\n"
     ]
    },
    {
     "name": "stdout",
     "output_type": "stream",
     "text": [
      "\u001b[31mBlock mass is 10.0, normalization is False, lengthscale dimensions are 2, and lengthscale initial values are [0.52438309 0.17011169]\u001b[0m\n",
      "\u001b[32mExhaustive mean squared predictive error is 6243.447500317947\u001b[0m\n",
      "\u001b[32mExhaustive total standard deviations is 0.0\u001b[0m\n",
      "\u001b[32mMean squared predictive error is 0.3408575033984114\u001b[0m\n",
      "\u001b[32mAverage control variance is 0.018480820937177525\u001b[0m\n",
      "INFO:tensorflow:Optimization terminated with:\n",
      "  Message: b'ABNORMAL_TERMINATION_IN_LNSRCH'\n",
      "  Objective function value: -3528.161531\n",
      "  Number of iterations: 61\n",
      "  Number of functions evaluations: 111\n"
     ]
    },
    {
     "name": "stderr",
     "output_type": "stream",
     "text": [
      "INFO:tensorflow:Optimization terminated with:\n",
      "  Message: b'ABNORMAL_TERMINATION_IN_LNSRCH'\n",
      "  Objective function value: -3528.161531\n",
      "  Number of iterations: 61\n",
      "  Number of functions evaluations: 111\n"
     ]
    },
    {
     "name": "stdout",
     "output_type": "stream",
     "text": [
      "\u001b[31mTime taken to optimize the parameters is 0:00:06.493937\u001b[0m\n",
      "\u001b[32mExhaustive mean squared predictive error is 3.5010636161576164e-11\u001b[0m\n",
      "\u001b[32mExhaustive total standard deviations is 0.0\u001b[0m\n",
      "\u001b[32mMean squared predictive error is 5.3716950989532133e-11\u001b[0m\n",
      "\u001b[32mAverage control variance is 1.034805295118005e-06\u001b[0m\n"
     ]
    }
   ],
   "source": [
    "GP_sanity_check(block_mass=10., should_normalize=False, lengthscales_code=1)"
   ]
  }
 ],
 "metadata": {
  "kernelspec": {
   "display_name": "Python 3",
   "language": "python",
   "name": "python3"
  },
  "language_info": {
   "codemirror_mode": {
    "name": "ipython",
    "version": 3
   },
   "file_extension": ".py",
   "mimetype": "text/x-python",
   "name": "python",
   "nbconvert_exporter": "python",
   "pygments_lexer": "ipython3",
   "version": "3.6.5"
  }
 },
 "nbformat": 4,
 "nbformat_minor": 2
}
